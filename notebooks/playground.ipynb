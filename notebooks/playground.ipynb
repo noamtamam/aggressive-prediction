{
 "cells": [
  {
   "cell_type": "code",
   "execution_count": 1,
   "metadata": {
    "collapsed": true
   },
   "outputs": [],
   "source": [
    "import numpy as np\n",
    "import pandas as pd\n",
    "from sklearn.preprocessing import StandardScaler\n",
    "from src.make_features import *\n",
    "from src.visualize import *\n",
    "from config import *\n",
    "from sklearn.model_selection import train_test_split\n",
    "import plotly.express as px"
   ]
  },
  {
   "cell_type": "code",
   "execution_count": 2,
   "outputs": [],
   "source": [
    "mice_dfs = load_data()\n",
    "all_data = pd.concat(mice_dfs).reset_index()\n",
    "# all_data.describe()\n"
   ],
   "metadata": {
    "collapsed": false
   }
  },
  {
   "cell_type": "code",
   "execution_count": 5,
   "outputs": [],
   "source": [
    "for df in mice_dfs:\n",
    "    if df is not None:\n",
    "        plot_heatmap(df, area_names)\n"
   ],
   "metadata": {
    "collapsed": false
   }
  },
  {
   "cell_type": "code",
   "execution_count": 6,
   "outputs": [],
   "source": [
    "X_train, X_test, y_train, y_test = train_test_split(all_data.iloc[:,:-1], all_data['win'], test_size=0.3,\n",
    "                                                    random_state=109) # 70% training and 30% test"
   ],
   "metadata": {
    "collapsed": false
   }
  },
  {
   "cell_type": "code",
   "execution_count": 13,
   "outputs": [],
   "source": [],
   "metadata": {
    "collapsed": false
   }
  },
  {
   "cell_type": "code",
   "execution_count": 8,
   "outputs": [],
   "source": [
    "for col in all_data.columns:\n",
    "    fig = px.histogram(y=all_data[col], color=all_data.win)\n",
    "    fig.write_html(f\"../graphs/histogram_area/histogram_{col}_winner_loser.html\")\n",
    "    # fig.write_image(f\"../graphs/histogram_area/histogram_{col}_winner_loser.png\")\n"
   ],
   "metadata": {
    "collapsed": false
   }
  },
  {
   "cell_type": "code",
   "execution_count": 13,
   "outputs": [],
   "source": [
    "trans = StandardScaler()\n",
    "data = pd.DataFrame(trans.fit_transform(all_data.iloc[:,:-1]))\n",
    "for col in data.columns:\n",
    "    fig = px.histogram(y=data[col], color=all_data.win)\n",
    "    fig.write_html(f\"../graphs/histogram_area/standardize_histogram_{col}_winner_loser.html\")\n",
    "    # fig.write_image(f\"../graphs/histogram_area/histogram_{col}_winner_loser.png\")"
   ],
   "metadata": {
    "collapsed": false
   }
  },
  {
   "cell_type": "code",
   "execution_count": 8,
   "outputs": [],
   "source": [
    "######################################\n",
    "############### 2D PCA ###############\n",
    "######################################\n",
    "# Separating out the features\n",
    "x = all_data[area_names].values\n",
    "# Separating out the target\n",
    "y = all_data['win'].values\n",
    "\n",
    "# Standardizing the features\n",
    "x = StandardScaler().fit_transform(x)\n",
    "from sklearn.decomposition import PCA\n",
    "\n",
    "pca = PCA(n_components=2)\n",
    "\n",
    "principalComponents = pca.fit_transform(x)\n",
    "total_var = pca.explained_variance_ratio_.sum() * 100\n",
    "\n",
    "principalDf = pd.DataFrame(data=principalComponents\n",
    "                           , columns=['principal component 1', 'principal component 2'])\n",
    "\n",
    "finalDf_2d = pd.concat([principalDf, all_data.win], axis=1)\n",
    "#######################################\n",
    "############### plot 2D ###############\n",
    "#######################################\n",
    "fig = px.scatter(finalDf_2d, x=\"principal component 1\", y=\"principal component 2\", color=\"win\",\n",
    "                 title=f'Total Explained Variance: {total_var:.2f}%')\n",
    "fig.show()\n"
   ],
   "metadata": {
    "collapsed": false
   }
  },
  {
   "cell_type": "code",
   "execution_count": 9,
   "outputs": [],
   "source": [
    "######################################\n",
    "############### 3D PCA ###############\n",
    "######################################\n",
    "# Separating out the features\n",
    "x = all_data[area_names].values\n",
    "\n",
    "# Separating out the target\n",
    "y = all_data['win'].values\n",
    "\n",
    "# Standardizing the features\n",
    "x = StandardScaler().fit_transform(x)\n",
    "from sklearn.decomposition import PCA\n",
    "\n",
    "pca = PCA(n_components=3)\n",
    "\n",
    "principalComponents = pca.fit_transform(x)\n",
    "\n",
    "principalDf = pd.DataFrame(data=principalComponents\n",
    "                           , columns=['principal component 1', 'principal component 2',  'principal component 3'])\n",
    "\n",
    "finalDf_3d = pd.concat([principalDf, all_data.win], axis=1)\n",
    "total_var = pca.explained_variance_ratio_.sum() * 100\n",
    "############### plot 3D ###############\n",
    "fig = px.scatter_3d(\n",
    "    finalDf_3d, x='principal component 1', y='principal component 2', z='principal component 3', color='win',\n",
    "    title=f'Total Explained Variance: {total_var:.2f}%',\n",
    "    labels={'0': 'PC 1', '1': 'PC 2', '2': 'PC 3'}\n",
    ")\n",
    "fig.show()\n",
    "\n"
   ],
   "metadata": {
    "collapsed": false
   }
  },
  {
   "cell_type": "code",
   "execution_count": 11,
   "outputs": [
    {
     "data": {
      "text/plain": "      principal component 1  principal component 2  principal component 3  win\n0                  1.643404              -1.299077              -0.136270    1\n1                  1.571032              -1.280237              -0.050190    1\n2                  1.520463              -1.215477              -0.017836    1\n3                  1.576943              -1.026466              -0.025267    1\n4                  1.460583              -1.035172               0.022370    1\n...                     ...                    ...                    ...  ...\n9095              -1.792984               0.739883               0.117330    0\n9096              -1.671393               0.478562               0.064863    0\n9097              -1.722024               0.379026               0.032229    0\n9098              -1.764023               0.360777               0.017307    0\n9099              -1.877854               0.487274               0.060157    0\n\n[9100 rows x 4 columns]",
      "text/html": "<div>\n<style scoped>\n    .dataframe tbody tr th:only-of-type {\n        vertical-align: middle;\n    }\n\n    .dataframe tbody tr th {\n        vertical-align: top;\n    }\n\n    .dataframe thead th {\n        text-align: right;\n    }\n</style>\n<table border=\"1\" class=\"dataframe\">\n  <thead>\n    <tr style=\"text-align: right;\">\n      <th></th>\n      <th>principal component 1</th>\n      <th>principal component 2</th>\n      <th>principal component 3</th>\n      <th>win</th>\n    </tr>\n  </thead>\n  <tbody>\n    <tr>\n      <th>0</th>\n      <td>1.643404</td>\n      <td>-1.299077</td>\n      <td>-0.136270</td>\n      <td>1</td>\n    </tr>\n    <tr>\n      <th>1</th>\n      <td>1.571032</td>\n      <td>-1.280237</td>\n      <td>-0.050190</td>\n      <td>1</td>\n    </tr>\n    <tr>\n      <th>2</th>\n      <td>1.520463</td>\n      <td>-1.215477</td>\n      <td>-0.017836</td>\n      <td>1</td>\n    </tr>\n    <tr>\n      <th>3</th>\n      <td>1.576943</td>\n      <td>-1.026466</td>\n      <td>-0.025267</td>\n      <td>1</td>\n    </tr>\n    <tr>\n      <th>4</th>\n      <td>1.460583</td>\n      <td>-1.035172</td>\n      <td>0.022370</td>\n      <td>1</td>\n    </tr>\n    <tr>\n      <th>...</th>\n      <td>...</td>\n      <td>...</td>\n      <td>...</td>\n      <td>...</td>\n    </tr>\n    <tr>\n      <th>9095</th>\n      <td>-1.792984</td>\n      <td>0.739883</td>\n      <td>0.117330</td>\n      <td>0</td>\n    </tr>\n    <tr>\n      <th>9096</th>\n      <td>-1.671393</td>\n      <td>0.478562</td>\n      <td>0.064863</td>\n      <td>0</td>\n    </tr>\n    <tr>\n      <th>9097</th>\n      <td>-1.722024</td>\n      <td>0.379026</td>\n      <td>0.032229</td>\n      <td>0</td>\n    </tr>\n    <tr>\n      <th>9098</th>\n      <td>-1.764023</td>\n      <td>0.360777</td>\n      <td>0.017307</td>\n      <td>0</td>\n    </tr>\n    <tr>\n      <th>9099</th>\n      <td>-1.877854</td>\n      <td>0.487274</td>\n      <td>0.060157</td>\n      <td>0</td>\n    </tr>\n  </tbody>\n</table>\n<p>9100 rows × 4 columns</p>\n</div>"
     },
     "execution_count": 11,
     "metadata": {},
     "output_type": "execute_result"
    }
   ],
   "source": [
    "finalDf_3d"
   ],
   "metadata": {
    "collapsed": false
   }
  },
  {
   "cell_type": "code",
   "execution_count": 12,
   "outputs": [],
   "source": [
    "\n",
    "pio.renderers.default = \"browser\"\n",
    "#######################################\n",
    "############### plot 3D ###############\n",
    "#######################################\n"
   ],
   "metadata": {
    "collapsed": false
   }
  },
  {
   "cell_type": "code",
   "execution_count": 28,
   "outputs": [],
   "source": [],
   "metadata": {
    "collapsed": false
   }
  },
  {
   "cell_type": "code",
   "execution_count": 7,
   "outputs": [],
   "source": [],
   "metadata": {
    "collapsed": false
   }
  },
  {
   "cell_type": "code",
   "execution_count": null,
   "outputs": [],
   "source": [],
   "metadata": {
    "collapsed": false
   }
  }
 ],
 "metadata": {
  "kernelspec": {
   "display_name": "Python 3",
   "language": "python",
   "name": "python3"
  },
  "language_info": {
   "codemirror_mode": {
    "name": "ipython",
    "version": 2
   },
   "file_extension": ".py",
   "mimetype": "text/x-python",
   "name": "python",
   "nbconvert_exporter": "python",
   "pygments_lexer": "ipython2",
   "version": "2.7.6"
  }
 },
 "nbformat": 4,
 "nbformat_minor": 0
}
