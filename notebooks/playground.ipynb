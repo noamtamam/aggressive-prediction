{
 "cells": [
  {
   "cell_type": "code",
   "execution_count": 10,
   "metadata": {
    "collapsed": true
   },
   "outputs": [],
   "source": [
    "import pandas as pd\n",
    "from sklearn.preprocessing import StandardScaler\n",
    "from src.make_features import *\n",
    "from src.visualize import *\n",
    "from config import *\n",
    "from sklearn.model_selection import train_test_split\n",
    "import plotly.express as px"
   ]
  },
  {
   "cell_type": "code",
   "execution_count": 6,
   "outputs": [
    {
     "data": {
      "text/plain": "(9100, 25)"
     },
     "execution_count": 6,
     "metadata": {},
     "output_type": "execute_result"
    }
   ],
   "source": [
    "mice_dfs = load_data()\n",
    "all_data = pd.concat(mice_dfs)\n",
    "all_data.shape"
   ],
   "metadata": {
    "collapsed": false
   }
  },
  {
   "cell_type": "code",
   "execution_count": 5,
   "outputs": [],
   "source": [
    "for df in mice_dfs:\n",
    "    if df is not None:\n",
    "        plot_heatmap(df, area_names)\n"
   ],
   "metadata": {
    "collapsed": false
   }
  },
  {
   "cell_type": "code",
   "execution_count": 6,
   "outputs": [],
   "source": [
    "X_train, X_test, y_train, y_test = train_test_split(all_data.iloc[:,:-1], all_data['win'], test_size=0.3,\n",
    "                                                    random_state=109) # 70% training and 30% test"
   ],
   "metadata": {
    "collapsed": false
   }
  },
  {
   "cell_type": "code",
   "execution_count": 7,
   "outputs": [
    {
     "data": {
      "text/plain": "          A1-f1-DI     A1-f2-Cl    A1-f3-Cpu    A1-f4-Cpu  A1-f5-AcShv  \\\ncount  9100.000000  9100.000000  9100.000000  9100.000000  9100.000000   \nmean      0.001585     0.000427    -0.000306     0.002338     0.002833   \nstd       0.014865     0.013036     0.010399     0.013109     0.017284   \nmin      -0.045791    -0.037613    -0.038057    -0.026201    -0.035524   \n25%      -0.006798    -0.005013    -0.005705    -0.006194    -0.008175   \n50%       0.000679     0.000162    -0.000341     0.000377     0.000974   \n75%       0.008932     0.006734     0.005950     0.008753     0.010974   \nmax       0.077883     0.056359     0.030619     0.058703     0.069804   \n\n        A1-f6-AcbC  A1-f7-AcbSh     A1-f8-M1     A1-f9-IL   A1-f10-PrL  ...  \\\ncount  9100.000000  9100.000000  9100.000000  9100.000000  9100.000000  ...   \nmean      0.001185     0.001644     0.002774     0.001068    -0.001233  ...   \nstd       0.017245     0.015602     0.017419     0.027701     0.011511  ...   \nmin      -0.055127    -0.032727    -0.034572    -0.073340    -0.042953  ...   \n25%      -0.010312    -0.007500    -0.007337    -0.011338    -0.005269  ...   \n50%      -0.001063    -0.000417    -0.000830    -0.001177    -0.000992  ...   \n75%       0.009557     0.009332     0.008253     0.008578     0.004100  ...   \nmax       0.069795     0.060632     0.089227     0.174969     0.040791  ...   \n\n         A2-f4-Cpu   A2-f5-S1BC   A2-f6-S1BC    A2-f7-CA3  A2-f8-Thl-VPM  \\\ncount  9100.000000  9100.000000  9100.000000  9100.000000    9100.000000   \nmean      0.002144     0.000020     0.001410     0.002784       0.001554   \nstd       0.013050     0.011855     0.014711     0.016784       0.013173   \nmin      -0.023938    -0.026894    -0.029600    -0.037971      -0.038399   \n25%      -0.005856    -0.007931    -0.007052    -0.004933      -0.005646   \n50%      -0.000654    -0.001814    -0.000794    -0.000680      -0.001038   \n75%       0.007678     0.006818     0.007962     0.008819       0.007077   \nmax       0.072691     0.044310     0.058903     0.081021       0.103026   \n\n       A2-f9-Thl-VL  A2-f10-Thl-Po   A2-f11-CA1    A2-f12-DG          win  \ncount   9100.000000    9100.000000  9100.000000  9100.000000  9100.000000  \nmean       0.001871       0.001090    -0.000507    -0.000057     0.500000  \nstd        0.015201       0.015052     0.009888     0.015226     0.500027  \nmin       -0.035378      -0.050976    -0.031953    -0.049070     0.000000  \n25%       -0.007865      -0.006953    -0.007130    -0.005259     0.000000  \n50%       -0.000584      -0.000972    -0.000912    -0.001375     0.500000  \n75%        0.007569       0.008739     0.004566     0.003466     1.000000  \nmax        0.073037       0.060303     0.038964     0.094858     1.000000  \n\n[8 rows x 25 columns]",
      "text/html": "<div>\n<style scoped>\n    .dataframe tbody tr th:only-of-type {\n        vertical-align: middle;\n    }\n\n    .dataframe tbody tr th {\n        vertical-align: top;\n    }\n\n    .dataframe thead th {\n        text-align: right;\n    }\n</style>\n<table border=\"1\" class=\"dataframe\">\n  <thead>\n    <tr style=\"text-align: right;\">\n      <th></th>\n      <th>A1-f1-DI</th>\n      <th>A1-f2-Cl</th>\n      <th>A1-f3-Cpu</th>\n      <th>A1-f4-Cpu</th>\n      <th>A1-f5-AcShv</th>\n      <th>A1-f6-AcbC</th>\n      <th>A1-f7-AcbSh</th>\n      <th>A1-f8-M1</th>\n      <th>A1-f9-IL</th>\n      <th>A1-f10-PrL</th>\n      <th>...</th>\n      <th>A2-f4-Cpu</th>\n      <th>A2-f5-S1BC</th>\n      <th>A2-f6-S1BC</th>\n      <th>A2-f7-CA3</th>\n      <th>A2-f8-Thl-VPM</th>\n      <th>A2-f9-Thl-VL</th>\n      <th>A2-f10-Thl-Po</th>\n      <th>A2-f11-CA1</th>\n      <th>A2-f12-DG</th>\n      <th>win</th>\n    </tr>\n  </thead>\n  <tbody>\n    <tr>\n      <th>count</th>\n      <td>9100.000000</td>\n      <td>9100.000000</td>\n      <td>9100.000000</td>\n      <td>9100.000000</td>\n      <td>9100.000000</td>\n      <td>9100.000000</td>\n      <td>9100.000000</td>\n      <td>9100.000000</td>\n      <td>9100.000000</td>\n      <td>9100.000000</td>\n      <td>...</td>\n      <td>9100.000000</td>\n      <td>9100.000000</td>\n      <td>9100.000000</td>\n      <td>9100.000000</td>\n      <td>9100.000000</td>\n      <td>9100.000000</td>\n      <td>9100.000000</td>\n      <td>9100.000000</td>\n      <td>9100.000000</td>\n      <td>9100.000000</td>\n    </tr>\n    <tr>\n      <th>mean</th>\n      <td>0.001585</td>\n      <td>0.000427</td>\n      <td>-0.000306</td>\n      <td>0.002338</td>\n      <td>0.002833</td>\n      <td>0.001185</td>\n      <td>0.001644</td>\n      <td>0.002774</td>\n      <td>0.001068</td>\n      <td>-0.001233</td>\n      <td>...</td>\n      <td>0.002144</td>\n      <td>0.000020</td>\n      <td>0.001410</td>\n      <td>0.002784</td>\n      <td>0.001554</td>\n      <td>0.001871</td>\n      <td>0.001090</td>\n      <td>-0.000507</td>\n      <td>-0.000057</td>\n      <td>0.500000</td>\n    </tr>\n    <tr>\n      <th>std</th>\n      <td>0.014865</td>\n      <td>0.013036</td>\n      <td>0.010399</td>\n      <td>0.013109</td>\n      <td>0.017284</td>\n      <td>0.017245</td>\n      <td>0.015602</td>\n      <td>0.017419</td>\n      <td>0.027701</td>\n      <td>0.011511</td>\n      <td>...</td>\n      <td>0.013050</td>\n      <td>0.011855</td>\n      <td>0.014711</td>\n      <td>0.016784</td>\n      <td>0.013173</td>\n      <td>0.015201</td>\n      <td>0.015052</td>\n      <td>0.009888</td>\n      <td>0.015226</td>\n      <td>0.500027</td>\n    </tr>\n    <tr>\n      <th>min</th>\n      <td>-0.045791</td>\n      <td>-0.037613</td>\n      <td>-0.038057</td>\n      <td>-0.026201</td>\n      <td>-0.035524</td>\n      <td>-0.055127</td>\n      <td>-0.032727</td>\n      <td>-0.034572</td>\n      <td>-0.073340</td>\n      <td>-0.042953</td>\n      <td>...</td>\n      <td>-0.023938</td>\n      <td>-0.026894</td>\n      <td>-0.029600</td>\n      <td>-0.037971</td>\n      <td>-0.038399</td>\n      <td>-0.035378</td>\n      <td>-0.050976</td>\n      <td>-0.031953</td>\n      <td>-0.049070</td>\n      <td>0.000000</td>\n    </tr>\n    <tr>\n      <th>25%</th>\n      <td>-0.006798</td>\n      <td>-0.005013</td>\n      <td>-0.005705</td>\n      <td>-0.006194</td>\n      <td>-0.008175</td>\n      <td>-0.010312</td>\n      <td>-0.007500</td>\n      <td>-0.007337</td>\n      <td>-0.011338</td>\n      <td>-0.005269</td>\n      <td>...</td>\n      <td>-0.005856</td>\n      <td>-0.007931</td>\n      <td>-0.007052</td>\n      <td>-0.004933</td>\n      <td>-0.005646</td>\n      <td>-0.007865</td>\n      <td>-0.006953</td>\n      <td>-0.007130</td>\n      <td>-0.005259</td>\n      <td>0.000000</td>\n    </tr>\n    <tr>\n      <th>50%</th>\n      <td>0.000679</td>\n      <td>0.000162</td>\n      <td>-0.000341</td>\n      <td>0.000377</td>\n      <td>0.000974</td>\n      <td>-0.001063</td>\n      <td>-0.000417</td>\n      <td>-0.000830</td>\n      <td>-0.001177</td>\n      <td>-0.000992</td>\n      <td>...</td>\n      <td>-0.000654</td>\n      <td>-0.001814</td>\n      <td>-0.000794</td>\n      <td>-0.000680</td>\n      <td>-0.001038</td>\n      <td>-0.000584</td>\n      <td>-0.000972</td>\n      <td>-0.000912</td>\n      <td>-0.001375</td>\n      <td>0.500000</td>\n    </tr>\n    <tr>\n      <th>75%</th>\n      <td>0.008932</td>\n      <td>0.006734</td>\n      <td>0.005950</td>\n      <td>0.008753</td>\n      <td>0.010974</td>\n      <td>0.009557</td>\n      <td>0.009332</td>\n      <td>0.008253</td>\n      <td>0.008578</td>\n      <td>0.004100</td>\n      <td>...</td>\n      <td>0.007678</td>\n      <td>0.006818</td>\n      <td>0.007962</td>\n      <td>0.008819</td>\n      <td>0.007077</td>\n      <td>0.007569</td>\n      <td>0.008739</td>\n      <td>0.004566</td>\n      <td>0.003466</td>\n      <td>1.000000</td>\n    </tr>\n    <tr>\n      <th>max</th>\n      <td>0.077883</td>\n      <td>0.056359</td>\n      <td>0.030619</td>\n      <td>0.058703</td>\n      <td>0.069804</td>\n      <td>0.069795</td>\n      <td>0.060632</td>\n      <td>0.089227</td>\n      <td>0.174969</td>\n      <td>0.040791</td>\n      <td>...</td>\n      <td>0.072691</td>\n      <td>0.044310</td>\n      <td>0.058903</td>\n      <td>0.081021</td>\n      <td>0.103026</td>\n      <td>0.073037</td>\n      <td>0.060303</td>\n      <td>0.038964</td>\n      <td>0.094858</td>\n      <td>1.000000</td>\n    </tr>\n  </tbody>\n</table>\n<p>8 rows × 25 columns</p>\n</div>"
     },
     "execution_count": 7,
     "metadata": {},
     "output_type": "execute_result"
    }
   ],
   "source": [
    "all_data.describe()"
   ],
   "metadata": {
    "collapsed": false
   }
  },
  {
   "cell_type": "code",
   "execution_count": 8,
   "outputs": [],
   "source": [
    "for col in all_data.columns:\n",
    "    fig = px.histogram(y=all_data[col], color=all_data.win)\n",
    "    fig.write_html(f\"../graphs/histogram_area/histogram_{col}_winner_loser.html\")\n",
    "    # fig.write_image(f\"../graphs/histogram_area/histogram_{col}_winner_loser.png\")\n"
   ],
   "metadata": {
    "collapsed": false
   }
  },
  {
   "cell_type": "code",
   "execution_count": 13,
   "outputs": [],
   "source": [
    "trans = StandardScaler()\n",
    "data = pd.DataFrame(trans.fit_transform(all_data.iloc[:,:-1]))\n",
    "for col in data.columns:\n",
    "    fig = px.histogram(y=data[col], color=all_data.win)\n",
    "    fig.write_html(f\"../graphs/histogram_area/standardize_histogram_{col}_winner_loser.html\")\n",
    "    # fig.write_image(f\"../graphs/histogram_area/histogram_{col}_winner_loser.png\")"
   ],
   "metadata": {
    "collapsed": false
   }
  },
  {
   "cell_type": "code",
   "execution_count": 3,
   "outputs": [
    {
     "name": "stdout",
     "output_type": "stream",
     "text": [
      "Processing c:\\users\\asus\\documents\\school\\year_c\\lab\\aggresive_prediction\\notebooks\\kaleido-0.1.0.post1-py2.py3-none-win_amd64.whl\n",
      "Installing collected packages: kaleido\n",
      "  Attempting uninstall: kaleido\n",
      "    Found existing installation: kaleido 0.2.1\n",
      "    Uninstalling kaleido-0.2.1:\n",
      "      Successfully uninstalled kaleido-0.2.1\n",
      "Successfully installed kaleido-0.1.0.post1\n"
     ]
    },
    {
     "name": "stderr",
     "output_type": "stream",
     "text": [
      "\n",
      "[notice] A new release of pip is available: 23.3.1 -> 23.3.2\n",
      "[notice] To update, run: python.exe -m pip install --upgrade pip\n"
     ]
    }
   ],
   "source": [
    "# ! pip install kaleido-0.1.0.post1-py2.py3-none-win_amd64.whl"
   ],
   "metadata": {
    "collapsed": false
   }
  },
  {
   "cell_type": "code",
   "execution_count": null,
   "outputs": [],
   "source": [],
   "metadata": {
    "collapsed": false
   }
  }
 ],
 "metadata": {
  "kernelspec": {
   "display_name": "Python 3",
   "language": "python",
   "name": "python3"
  },
  "language_info": {
   "codemirror_mode": {
    "name": "ipython",
    "version": 2
   },
   "file_extension": ".py",
   "mimetype": "text/x-python",
   "name": "python",
   "nbconvert_exporter": "python",
   "pygments_lexer": "ipython2",
   "version": "2.7.6"
  }
 },
 "nbformat": 4,
 "nbformat_minor": 0
}
