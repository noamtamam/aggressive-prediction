{
 "cells": [
  {
   "cell_type": "code",
   "execution_count": 2,
   "metadata": {
    "collapsed": true
   },
   "outputs": [],
   "source": [
    "import numpy as np\n",
    "import pandas as pd\n",
    "from sklearn.preprocessing import StandardScaler\n",
    "from src.make_features import *\n",
    "from src.visualize import *\n",
    "from config import *\n",
    "from sklearn.model_selection import train_test_split\n",
    "import plotly.express as px"
   ]
  },
  {
   "cell_type": "code",
   "execution_count": 11,
   "outputs": [
    {
     "name": "stdout",
     "output_type": "stream",
     "text": [
      "Loading the data to dataframes...finished!\n"
     ]
    },
    {
     "ename": "ValueError",
     "evalue": "Shape of passed values is (9100, 36), indices imply (9100, 24)",
     "output_type": "error",
     "traceback": [
      "\u001B[1;31m---------------------------------------------------------------------------\u001B[0m",
      "\u001B[1;31mValueError\u001B[0m                                Traceback (most recent call last)",
      "Cell \u001B[1;32mIn[11], line 8\u001B[0m\n\u001B[0;32m      6\u001B[0m \u001B[38;5;66;03m#\u001B[39;00m\n\u001B[0;32m      7\u001B[0m trans \u001B[38;5;241m=\u001B[39m StandardScaler()\n\u001B[1;32m----> 8\u001B[0m features_data \u001B[38;5;241m=\u001B[39m \u001B[43mpd\u001B[49m\u001B[38;5;241;43m.\u001B[39;49m\u001B[43mDataFrame\u001B[49m\u001B[43m(\u001B[49m\u001B[43mtrans\u001B[49m\u001B[38;5;241;43m.\u001B[39;49m\u001B[43mfit_transform\u001B[49m\u001B[43m(\u001B[49m\u001B[43mfeatures_data_b_c\u001B[49m\u001B[43m)\u001B[49m\u001B[43m,\u001B[49m\u001B[43m \u001B[49m\u001B[43mcolumns\u001B[49m\u001B[38;5;241;43m=\u001B[39;49m\u001B[43marea_names\u001B[49m\u001B[43m)\u001B[49m\n\u001B[0;32m      9\u001B[0m \u001B[38;5;66;03m# trans = StandardScaler()\u001B[39;00m\n\u001B[0;32m     10\u001B[0m \u001B[38;5;66;03m# features_data  = pd.DataFrame(trans.fit_transform(features_data_b_c),columns=area_names)\u001B[39;00m\n\u001B[0;32m     11\u001B[0m \u001B[38;5;66;03m# X=features_data\u001B[39;00m\n\u001B[0;32m     12\u001B[0m \u001B[38;5;66;03m# Y= target_data\u001B[39;00m\n",
      "File \u001B[1;32m~\\AppData\\Local\\Programs\\Python\\Python310\\lib\\site-packages\\pandas\\core\\frame.py:785\u001B[0m, in \u001B[0;36mDataFrame.__init__\u001B[1;34m(self, data, index, columns, dtype, copy)\u001B[0m\n\u001B[0;32m    774\u001B[0m         mgr \u001B[38;5;241m=\u001B[39m dict_to_mgr(\n\u001B[0;32m    775\u001B[0m             \u001B[38;5;66;03m# error: Item \"ndarray\" of \"Union[ndarray, Series, Index]\" has no\u001B[39;00m\n\u001B[0;32m    776\u001B[0m             \u001B[38;5;66;03m# attribute \"name\"\u001B[39;00m\n\u001B[1;32m   (...)\u001B[0m\n\u001B[0;32m    782\u001B[0m             copy\u001B[38;5;241m=\u001B[39m_copy,\n\u001B[0;32m    783\u001B[0m         )\n\u001B[0;32m    784\u001B[0m     \u001B[38;5;28;01melse\u001B[39;00m:\n\u001B[1;32m--> 785\u001B[0m         mgr \u001B[38;5;241m=\u001B[39m \u001B[43mndarray_to_mgr\u001B[49m\u001B[43m(\u001B[49m\n\u001B[0;32m    786\u001B[0m \u001B[43m            \u001B[49m\u001B[43mdata\u001B[49m\u001B[43m,\u001B[49m\n\u001B[0;32m    787\u001B[0m \u001B[43m            \u001B[49m\u001B[43mindex\u001B[49m\u001B[43m,\u001B[49m\n\u001B[0;32m    788\u001B[0m \u001B[43m            \u001B[49m\u001B[43mcolumns\u001B[49m\u001B[43m,\u001B[49m\n\u001B[0;32m    789\u001B[0m \u001B[43m            \u001B[49m\u001B[43mdtype\u001B[49m\u001B[38;5;241;43m=\u001B[39;49m\u001B[43mdtype\u001B[49m\u001B[43m,\u001B[49m\n\u001B[0;32m    790\u001B[0m \u001B[43m            \u001B[49m\u001B[43mcopy\u001B[49m\u001B[38;5;241;43m=\u001B[39;49m\u001B[43mcopy\u001B[49m\u001B[43m,\u001B[49m\n\u001B[0;32m    791\u001B[0m \u001B[43m            \u001B[49m\u001B[43mtyp\u001B[49m\u001B[38;5;241;43m=\u001B[39;49m\u001B[43mmanager\u001B[49m\u001B[43m,\u001B[49m\n\u001B[0;32m    792\u001B[0m \u001B[43m        \u001B[49m\u001B[43m)\u001B[49m\n\u001B[0;32m    794\u001B[0m \u001B[38;5;66;03m# For data is list-like, or Iterable (will consume into list)\u001B[39;00m\n\u001B[0;32m    795\u001B[0m \u001B[38;5;28;01melif\u001B[39;00m is_list_like(data):\n",
      "File \u001B[1;32m~\\AppData\\Local\\Programs\\Python\\Python310\\lib\\site-packages\\pandas\\core\\internals\\construction.py:336\u001B[0m, in \u001B[0;36mndarray_to_mgr\u001B[1;34m(values, index, columns, dtype, copy, typ)\u001B[0m\n\u001B[0;32m    331\u001B[0m \u001B[38;5;66;03m# _prep_ndarraylike ensures that values.ndim == 2 at this point\u001B[39;00m\n\u001B[0;32m    332\u001B[0m index, columns \u001B[38;5;241m=\u001B[39m _get_axes(\n\u001B[0;32m    333\u001B[0m     values\u001B[38;5;241m.\u001B[39mshape[\u001B[38;5;241m0\u001B[39m], values\u001B[38;5;241m.\u001B[39mshape[\u001B[38;5;241m1\u001B[39m], index\u001B[38;5;241m=\u001B[39mindex, columns\u001B[38;5;241m=\u001B[39mcolumns\n\u001B[0;32m    334\u001B[0m )\n\u001B[1;32m--> 336\u001B[0m \u001B[43m_check_values_indices_shape_match\u001B[49m\u001B[43m(\u001B[49m\u001B[43mvalues\u001B[49m\u001B[43m,\u001B[49m\u001B[43m \u001B[49m\u001B[43mindex\u001B[49m\u001B[43m,\u001B[49m\u001B[43m \u001B[49m\u001B[43mcolumns\u001B[49m\u001B[43m)\u001B[49m\n\u001B[0;32m    338\u001B[0m \u001B[38;5;28;01mif\u001B[39;00m typ \u001B[38;5;241m==\u001B[39m \u001B[38;5;124m\"\u001B[39m\u001B[38;5;124marray\u001B[39m\u001B[38;5;124m\"\u001B[39m:\n\u001B[0;32m    339\u001B[0m     \u001B[38;5;28;01mif\u001B[39;00m \u001B[38;5;28missubclass\u001B[39m(values\u001B[38;5;241m.\u001B[39mdtype\u001B[38;5;241m.\u001B[39mtype, \u001B[38;5;28mstr\u001B[39m):\n",
      "File \u001B[1;32m~\\AppData\\Local\\Programs\\Python\\Python310\\lib\\site-packages\\pandas\\core\\internals\\construction.py:420\u001B[0m, in \u001B[0;36m_check_values_indices_shape_match\u001B[1;34m(values, index, columns)\u001B[0m\n\u001B[0;32m    418\u001B[0m passed \u001B[38;5;241m=\u001B[39m values\u001B[38;5;241m.\u001B[39mshape\n\u001B[0;32m    419\u001B[0m implied \u001B[38;5;241m=\u001B[39m (\u001B[38;5;28mlen\u001B[39m(index), \u001B[38;5;28mlen\u001B[39m(columns))\n\u001B[1;32m--> 420\u001B[0m \u001B[38;5;28;01mraise\u001B[39;00m \u001B[38;5;167;01mValueError\u001B[39;00m(\u001B[38;5;124mf\u001B[39m\u001B[38;5;124m\"\u001B[39m\u001B[38;5;124mShape of passed values is \u001B[39m\u001B[38;5;132;01m{\u001B[39;00mpassed\u001B[38;5;132;01m}\u001B[39;00m\u001B[38;5;124m, indices imply \u001B[39m\u001B[38;5;132;01m{\u001B[39;00mimplied\u001B[38;5;132;01m}\u001B[39;00m\u001B[38;5;124m\"\u001B[39m)\n",
      "\u001B[1;31mValueError\u001B[0m: Shape of passed values is (9100, 36), indices imply (9100, 24)"
     ]
    }
   ],
   "source": [
    "mice_dfs, mice_info_lst = load_data()\n",
    "all_data = pd.concat(mice_dfs).reset_index(drop=True)\n",
    "\n",
    "features_data_b_c = all_data[area_names]\n",
    "target_data = all_data[target]\n",
    "#\n",
    "trans = StandardScaler()\n",
    "features_data = pd.DataFrame(trans.fit_transform(features_data_b_c), columns=area_names)\n",
    "# trans = StandardScaler()\n",
    "# features_data  = pd.DataFrame(trans.fit_transform(features_data_b_c),columns=area_names)\n",
    "# X=features_data\n",
    "# Y= target_datab"
   ],
   "metadata": {
    "collapsed": false
   }
  },
  {
   "cell_type": "code",
   "execution_count": 20,
   "outputs": [
    {
     "data": {
      "text/plain": "24"
     },
     "execution_count": 20,
     "metadata": {},
     "output_type": "execute_result"
    }
   ],
   "source": [
    "len(area_names)"
   ],
   "metadata": {
    "collapsed": false
   }
  },
  {
   "cell_type": "code",
   "execution_count": 26,
   "outputs": [
    {
     "data": {
      "text/plain": "24"
     },
     "execution_count": 26,
     "metadata": {},
     "output_type": "execute_result"
    }
   ],
   "source": [
    "x=all_data.drop(target, axis=1)\n",
    "\n",
    "len(x.columns)\n",
    "# len(all_data.columns)"
   ],
   "metadata": {
    "collapsed": false
   }
  },
  {
   "cell_type": "code",
   "execution_count": 27,
   "outputs": [
    {
     "data": {
      "text/plain": "            0         1         2         3         4         5         6   \\\n0     0.275114  0.762847  1.172713  0.690726  0.618217  0.550137  0.396181   \n1     0.198068  0.748639  1.143187  0.659929  0.721653  0.546610  0.394923   \n2     0.114558  0.729347  1.076295  0.588022  0.810640  0.534853  0.352713   \n3     0.041599  0.635114  1.012149  0.474605  0.851456  0.533249  0.364587   \n4     0.047907  0.605510  0.960220  0.462355  0.863289  0.514350  0.315056   \n...        ...       ...       ...       ...       ...       ...       ...   \n9095  0.191973 -0.554742 -0.612055 -0.835235 -0.680119 -0.784951 -0.902605   \n9096  0.261705 -0.425791 -0.485612 -0.785109 -0.580744 -0.721142 -0.887984   \n9097  0.222544 -0.419474 -0.429574 -0.796157 -0.558587 -0.694893 -0.882619   \n9098  0.170196 -0.430513 -0.412963 -0.818368 -0.530303 -0.713005 -0.879952   \n9099  0.086972 -0.487270 -0.519511 -0.858869 -0.578020 -0.737686 -0.932878   \n\n            7         8         9   ...        14        15        16  \\\n0     0.068521  0.229155  0.052711  ...  0.578868  0.367622  0.604262   \n1     0.015811  0.223547  0.025866  ...  0.573809  0.351918  0.561342   \n2     0.016752  0.205016  0.055581  ...  0.624074  0.319407  0.552803   \n3     0.053197  0.195269  0.117394  ...  0.661802  0.343402  0.575194   \n4     0.008168  0.160040  0.086780  ...  0.741407  0.303947  0.473480   \n...        ...       ...       ...  ...       ...       ...       ...   \n9095 -0.885182 -0.180289  0.004573  ... -0.352691 -0.529442 -0.532250   \n9096 -0.852868 -0.188983 -0.008500  ... -0.287060 -0.439950 -0.443079   \n9097 -0.806792 -0.210119 -0.026643  ... -0.273145 -0.420569 -0.433389   \n9098 -0.806958 -0.223422 -0.029666  ... -0.226146 -0.488668 -0.370909   \n9099 -0.822593 -0.225541  0.026794  ... -0.274069 -0.542525 -0.425178   \n\n            17        18        19        20        21        22        23  \n0     0.401754  0.414480  0.144231 -0.129706 -0.361513 -0.536563  0.091327  \n1     0.306499  0.358597  0.122512 -0.080464 -0.333775 -0.565506  0.177309  \n2     0.274189  0.342517  0.096159 -0.019713 -0.329268 -0.529008  0.164645  \n3     0.304989  0.363076  0.098183  0.069957 -0.217667 -0.404317  0.196172  \n4     0.263916  0.358838  0.041406  0.048127 -0.249558 -0.432669  0.190411  \n...        ...       ...       ...       ...       ...       ...       ...  \n9095 -0.410430 -0.494377  0.406420 -0.197988  0.501101 -0.186465  0.049985  \n9096 -0.399056 -0.489812  0.420723 -0.267915  0.369987 -0.302996 -0.037287  \n9097 -0.361030 -0.531139  0.389853 -0.313051  0.229094 -0.369383 -0.092630  \n9098 -0.349686 -0.554341  0.381977 -0.361669  0.096195 -0.354383 -0.088572  \n9099 -0.364995 -0.565299  0.337459 -0.341411  0.004566 -0.269896 -0.051171  \n\n[9100 rows x 24 columns]",
      "text/html": "<div>\n<style scoped>\n    .dataframe tbody tr th:only-of-type {\n        vertical-align: middle;\n    }\n\n    .dataframe tbody tr th {\n        vertical-align: top;\n    }\n\n    .dataframe thead th {\n        text-align: right;\n    }\n</style>\n<table border=\"1\" class=\"dataframe\">\n  <thead>\n    <tr style=\"text-align: right;\">\n      <th></th>\n      <th>0</th>\n      <th>1</th>\n      <th>2</th>\n      <th>3</th>\n      <th>4</th>\n      <th>5</th>\n      <th>6</th>\n      <th>7</th>\n      <th>8</th>\n      <th>9</th>\n      <th>...</th>\n      <th>14</th>\n      <th>15</th>\n      <th>16</th>\n      <th>17</th>\n      <th>18</th>\n      <th>19</th>\n      <th>20</th>\n      <th>21</th>\n      <th>22</th>\n      <th>23</th>\n    </tr>\n  </thead>\n  <tbody>\n    <tr>\n      <th>0</th>\n      <td>0.275114</td>\n      <td>0.762847</td>\n      <td>1.172713</td>\n      <td>0.690726</td>\n      <td>0.618217</td>\n      <td>0.550137</td>\n      <td>0.396181</td>\n      <td>0.068521</td>\n      <td>0.229155</td>\n      <td>0.052711</td>\n      <td>...</td>\n      <td>0.578868</td>\n      <td>0.367622</td>\n      <td>0.604262</td>\n      <td>0.401754</td>\n      <td>0.414480</td>\n      <td>0.144231</td>\n      <td>-0.129706</td>\n      <td>-0.361513</td>\n      <td>-0.536563</td>\n      <td>0.091327</td>\n    </tr>\n    <tr>\n      <th>1</th>\n      <td>0.198068</td>\n      <td>0.748639</td>\n      <td>1.143187</td>\n      <td>0.659929</td>\n      <td>0.721653</td>\n      <td>0.546610</td>\n      <td>0.394923</td>\n      <td>0.015811</td>\n      <td>0.223547</td>\n      <td>0.025866</td>\n      <td>...</td>\n      <td>0.573809</td>\n      <td>0.351918</td>\n      <td>0.561342</td>\n      <td>0.306499</td>\n      <td>0.358597</td>\n      <td>0.122512</td>\n      <td>-0.080464</td>\n      <td>-0.333775</td>\n      <td>-0.565506</td>\n      <td>0.177309</td>\n    </tr>\n    <tr>\n      <th>2</th>\n      <td>0.114558</td>\n      <td>0.729347</td>\n      <td>1.076295</td>\n      <td>0.588022</td>\n      <td>0.810640</td>\n      <td>0.534853</td>\n      <td>0.352713</td>\n      <td>0.016752</td>\n      <td>0.205016</td>\n      <td>0.055581</td>\n      <td>...</td>\n      <td>0.624074</td>\n      <td>0.319407</td>\n      <td>0.552803</td>\n      <td>0.274189</td>\n      <td>0.342517</td>\n      <td>0.096159</td>\n      <td>-0.019713</td>\n      <td>-0.329268</td>\n      <td>-0.529008</td>\n      <td>0.164645</td>\n    </tr>\n    <tr>\n      <th>3</th>\n      <td>0.041599</td>\n      <td>0.635114</td>\n      <td>1.012149</td>\n      <td>0.474605</td>\n      <td>0.851456</td>\n      <td>0.533249</td>\n      <td>0.364587</td>\n      <td>0.053197</td>\n      <td>0.195269</td>\n      <td>0.117394</td>\n      <td>...</td>\n      <td>0.661802</td>\n      <td>0.343402</td>\n      <td>0.575194</td>\n      <td>0.304989</td>\n      <td>0.363076</td>\n      <td>0.098183</td>\n      <td>0.069957</td>\n      <td>-0.217667</td>\n      <td>-0.404317</td>\n      <td>0.196172</td>\n    </tr>\n    <tr>\n      <th>4</th>\n      <td>0.047907</td>\n      <td>0.605510</td>\n      <td>0.960220</td>\n      <td>0.462355</td>\n      <td>0.863289</td>\n      <td>0.514350</td>\n      <td>0.315056</td>\n      <td>0.008168</td>\n      <td>0.160040</td>\n      <td>0.086780</td>\n      <td>...</td>\n      <td>0.741407</td>\n      <td>0.303947</td>\n      <td>0.473480</td>\n      <td>0.263916</td>\n      <td>0.358838</td>\n      <td>0.041406</td>\n      <td>0.048127</td>\n      <td>-0.249558</td>\n      <td>-0.432669</td>\n      <td>0.190411</td>\n    </tr>\n    <tr>\n      <th>...</th>\n      <td>...</td>\n      <td>...</td>\n      <td>...</td>\n      <td>...</td>\n      <td>...</td>\n      <td>...</td>\n      <td>...</td>\n      <td>...</td>\n      <td>...</td>\n      <td>...</td>\n      <td>...</td>\n      <td>...</td>\n      <td>...</td>\n      <td>...</td>\n      <td>...</td>\n      <td>...</td>\n      <td>...</td>\n      <td>...</td>\n      <td>...</td>\n      <td>...</td>\n      <td>...</td>\n    </tr>\n    <tr>\n      <th>9095</th>\n      <td>0.191973</td>\n      <td>-0.554742</td>\n      <td>-0.612055</td>\n      <td>-0.835235</td>\n      <td>-0.680119</td>\n      <td>-0.784951</td>\n      <td>-0.902605</td>\n      <td>-0.885182</td>\n      <td>-0.180289</td>\n      <td>0.004573</td>\n      <td>...</td>\n      <td>-0.352691</td>\n      <td>-0.529442</td>\n      <td>-0.532250</td>\n      <td>-0.410430</td>\n      <td>-0.494377</td>\n      <td>0.406420</td>\n      <td>-0.197988</td>\n      <td>0.501101</td>\n      <td>-0.186465</td>\n      <td>0.049985</td>\n    </tr>\n    <tr>\n      <th>9096</th>\n      <td>0.261705</td>\n      <td>-0.425791</td>\n      <td>-0.485612</td>\n      <td>-0.785109</td>\n      <td>-0.580744</td>\n      <td>-0.721142</td>\n      <td>-0.887984</td>\n      <td>-0.852868</td>\n      <td>-0.188983</td>\n      <td>-0.008500</td>\n      <td>...</td>\n      <td>-0.287060</td>\n      <td>-0.439950</td>\n      <td>-0.443079</td>\n      <td>-0.399056</td>\n      <td>-0.489812</td>\n      <td>0.420723</td>\n      <td>-0.267915</td>\n      <td>0.369987</td>\n      <td>-0.302996</td>\n      <td>-0.037287</td>\n    </tr>\n    <tr>\n      <th>9097</th>\n      <td>0.222544</td>\n      <td>-0.419474</td>\n      <td>-0.429574</td>\n      <td>-0.796157</td>\n      <td>-0.558587</td>\n      <td>-0.694893</td>\n      <td>-0.882619</td>\n      <td>-0.806792</td>\n      <td>-0.210119</td>\n      <td>-0.026643</td>\n      <td>...</td>\n      <td>-0.273145</td>\n      <td>-0.420569</td>\n      <td>-0.433389</td>\n      <td>-0.361030</td>\n      <td>-0.531139</td>\n      <td>0.389853</td>\n      <td>-0.313051</td>\n      <td>0.229094</td>\n      <td>-0.369383</td>\n      <td>-0.092630</td>\n    </tr>\n    <tr>\n      <th>9098</th>\n      <td>0.170196</td>\n      <td>-0.430513</td>\n      <td>-0.412963</td>\n      <td>-0.818368</td>\n      <td>-0.530303</td>\n      <td>-0.713005</td>\n      <td>-0.879952</td>\n      <td>-0.806958</td>\n      <td>-0.223422</td>\n      <td>-0.029666</td>\n      <td>...</td>\n      <td>-0.226146</td>\n      <td>-0.488668</td>\n      <td>-0.370909</td>\n      <td>-0.349686</td>\n      <td>-0.554341</td>\n      <td>0.381977</td>\n      <td>-0.361669</td>\n      <td>0.096195</td>\n      <td>-0.354383</td>\n      <td>-0.088572</td>\n    </tr>\n    <tr>\n      <th>9099</th>\n      <td>0.086972</td>\n      <td>-0.487270</td>\n      <td>-0.519511</td>\n      <td>-0.858869</td>\n      <td>-0.578020</td>\n      <td>-0.737686</td>\n      <td>-0.932878</td>\n      <td>-0.822593</td>\n      <td>-0.225541</td>\n      <td>0.026794</td>\n      <td>...</td>\n      <td>-0.274069</td>\n      <td>-0.542525</td>\n      <td>-0.425178</td>\n      <td>-0.364995</td>\n      <td>-0.565299</td>\n      <td>0.337459</td>\n      <td>-0.341411</td>\n      <td>0.004566</td>\n      <td>-0.269896</td>\n      <td>-0.051171</td>\n    </tr>\n  </tbody>\n</table>\n<p>9100 rows × 24 columns</p>\n</div>"
     },
     "execution_count": 27,
     "metadata": {},
     "output_type": "execute_result"
    }
   ],
   "source": [
    "scaler = StandardScaler()\n",
    "df_normalized = pd.DataFrame(scaler.fit_transform(x))\n",
    "df_normalized"
   ],
   "metadata": {
    "collapsed": false
   }
  },
  {
   "cell_type": "code",
   "execution_count": 4,
   "outputs": [],
   "source": [
    "# X_train, X_test, y_train, y_test = train_test_split(all_data.iloc[:,:-1], all_data['win'], test_size=0.3,\n",
    "#                                                     random_state=109) # 70% training and 30% test"
   ],
   "metadata": {
    "collapsed": false
   }
  },
  {
   "cell_type": "code",
   "execution_count": 5,
   "outputs": [],
   "source": [
    "# for col in all_data.columns:\n",
    "#     fig = px.histogram(y=all_data[col], color=all_data.win)\n",
    "#     fig.write_html(f\"../graphs/histogram_area/histogram_{col}_winner_loser.html\")\n",
    "#     # fig.write_image(f\"../graphs/histogram_area/histogram_{col}_winner_loser.png\")\n"
   ],
   "metadata": {
    "collapsed": false
   }
  },
  {
   "cell_type": "code",
   "execution_count": 6,
   "outputs": [],
   "source": [
    "# trans = StandardScaler()\n",
    "# data = pd.DataFrame(trans.fit_transform(all_data.iloc[:,:-1]))\n",
    "# for col in data.columns:\n",
    "#     fig = px.histogram(y=data[col], color=all_data.win)\n",
    "#     fig.write_html(f\"../graphs/histogram_area/standardize_histogram_{col}_winner_loser.html\")\n",
    "#     # fig.write_image(f\"../graphs/histogram_area/histogram_{col}_winner_loser.png\")"
   ],
   "metadata": {
    "collapsed": false
   }
  },
  {
   "cell_type": "code",
   "execution_count": 28,
   "outputs": [],
   "source": [
    "######################################\n",
    "############### 2D PCA ###############\n",
    "######################################\n",
    "# Separating out the features\n",
    "# x = all_data[area_names].values\n",
    "# Separating out the target\n",
    "y = all_data[target]\n",
    "\n",
    "# Standardizing the features\n",
    "x = StandardScaler().fit_transform(x)\n",
    "from sklearn.decomposition import PCA\n",
    "\n",
    "pca = PCA(n_components=2)\n",
    "\n",
    "principalComponents = pca.fit_transform(x)\n",
    "total_var = pca.explained_variance_ratio_.sum() * 100\n",
    "\n",
    "principalDf = pd.DataFrame(data=principalComponents\n",
    "                           , columns=['principal component 1', 'principal component 2'])\n",
    "\n",
    "finalDf_2d = pd.concat([principalDf, all_data.win], axis=1)\n",
    "#######################################\n",
    "############### plot 2D ###############\n",
    "#######################################\n",
    "fig = px.scatter(finalDf_2d, x=\"principal component 1\", y=\"principal component 2\", color=\"win\",\n",
    "                 title=f'Total Explained Variance: {total_var:.2f}%')\n",
    "fig.show()\n"
   ],
   "metadata": {
    "collapsed": false
   }
  },
  {
   "cell_type": "code",
   "execution_count": 42,
   "outputs": [
    {
     "data": {
      "text/plain": "SBC       0.246258\nThlVL     0.240136\nCA        0.237079\nAcbSh     0.234743\nCpu       0.227862\nSBC       0.227485\nCeL       0.223347\nCPuGP     0.222292\nCpu       0.220687\nAcbC      0.220673\nIL        0.220325\nCA        0.213681\nM         0.213342\nPrL       0.208701\nCpu       0.202689\nAcShv     0.200736\nThlPo     0.198956\nCl        0.176860\nDG        0.172365\nBLA       0.164138\nDI        0.158487\nThlVPM    0.145428\nPrL       0.128956\nCg        0.122276\nName: 0, dtype: float64"
     },
     "execution_count": 42,
     "metadata": {},
     "output_type": "execute_result"
    }
   ],
   "source": [
    "loadings_df = pd.DataFrame(pca.components_, columns=area_names)\n",
    "loadings_first_component = loadings_df.iloc[0, :]  # Extract loadings for the first component\n",
    "\n",
    "# Sort features based on absolute values of loadings\n",
    "sorted_indices = np.argsort(np.abs(loadings_first_component))[::-1]\n",
    "sorted_loadings = loadings_first_component.iloc[sorted_indices]\n",
    "sorted_loadings"
   ],
   "metadata": {
    "collapsed": false
   }
  },
  {
   "cell_type": "code",
   "execution_count": 45,
   "outputs": [],
   "source": [
    "loadings_first_component = loadings_df.iloc[0, :]  # Extract loadings for the first component\n",
    "\n",
    "# Create a DataFrame with features and their loadings\n",
    "loadings_data = {'Features': loadings_first_component.index, 'Loadings': loadings_first_component.values}\n",
    "loadings_df_sorted = pd.DataFrame(loadings_data).sort_values(by='Loadings', key=abs, ascending=False)\n",
    "\n",
    "fig = px.bar(loadings_df_sorted, x='Features', y='Loadings',\n",
    "             title='Sorted Loadings of the First Principal Component',\n",
    "             labels={'Loadings': 'Loadings'},\n",
    "             template='plotly_white')\n",
    "\n",
    "fig.update_xaxes(tickangle=45, tickmode='array', tickvals=list(range(len(loadings_df_sorted))), ticktext=loadings_df_sorted['Features'])\n",
    "\n",
    "fig.show()"
   ],
   "metadata": {
    "collapsed": false
   }
  },
  {
   "cell_type": "code",
   "execution_count": null,
   "outputs": [],
   "source": [
    "######################################\n",
    "############### 3D PCA ###############\n",
    "######################################\n",
    "# Separating out the features\n",
    "x = all_data[area_names].values\n",
    "\n",
    "# Separating out the target\n",
    "y = all_data['win'].values\n",
    "\n",
    "# Standardizing the features\n",
    "x = StandardScaler().fit_transform(x)\n",
    "from sklearn.decomposition import PCA\n",
    "\n",
    "pca = PCA(n_components=3)\n",
    "\n",
    "principalComponents = pca.fit_transform(x)\n",
    "\n",
    "principalDf = pd.DataFrame(data=principalComponents\n",
    "                           , columns=['principal component 1', 'principal component 2',  'principal component 3'])\n",
    "\n",
    "finalDf_3d = pd.concat([principalDf, all_data.win], axis=1)\n",
    "total_var = pca.explained_variance_ratio_.sum() * 100\n",
    "############### plot 3D ###############\n",
    "fig = px.scatter_3d(\n",
    "    finalDf_3d, x='principal component 1', y='principal component 2', z='principal component 3', color='win',\n",
    "    title=f'Total Explained Variance: {total_var:.2f}%',\n",
    "    labels={'0': 'PC 1', '1': 'PC 2', '2': 'PC 3'}\n",
    ")\n",
    "fig.show()\n",
    "\n"
   ],
   "metadata": {
    "collapsed": false
   }
  },
  {
   "cell_type": "code",
   "execution_count": 10,
   "outputs": [
    {
     "ename": "KeyboardInterrupt",
     "evalue": "",
     "output_type": "error",
     "traceback": [
      "\u001B[1;31m---------------------------------------------------------------------------\u001B[0m",
      "\u001B[1;31mKeyboardInterrupt\u001B[0m                         Traceback (most recent call last)",
      "Cell \u001B[1;32mIn[10], line 1\u001B[0m\n\u001B[1;32m----> 1\u001B[0m \u001B[43mpca\u001B[49m\n",
      "Cell \u001B[1;32mIn[10], line 1\u001B[0m\n\u001B[1;32m----> 1\u001B[0m \u001B[43mpca\u001B[49m\n",
      "File \u001B[1;32m_pydevd_bundle\\pydevd_cython_win32_310_64.pyx:1179\u001B[0m, in \u001B[0;36m_pydevd_bundle.pydevd_cython_win32_310_64.SafeCallWrapper.__call__\u001B[1;34m()\u001B[0m\n",
      "File \u001B[1;32m_pydevd_bundle\\pydevd_cython_win32_310_64.pyx:620\u001B[0m, in \u001B[0;36m_pydevd_bundle.pydevd_cython_win32_310_64.PyDBFrame.trace_dispatch\u001B[1;34m()\u001B[0m\n",
      "File \u001B[1;32m_pydevd_bundle\\pydevd_cython_win32_310_64.pyx:929\u001B[0m, in \u001B[0;36m_pydevd_bundle.pydevd_cython_win32_310_64.PyDBFrame.trace_dispatch\u001B[1;34m()\u001B[0m\n",
      "File \u001B[1;32m_pydevd_bundle\\pydevd_cython_win32_310_64.pyx:920\u001B[0m, in \u001B[0;36m_pydevd_bundle.pydevd_cython_win32_310_64.PyDBFrame.trace_dispatch\u001B[1;34m()\u001B[0m\n",
      "File \u001B[1;32m_pydevd_bundle\\pydevd_cython_win32_310_64.pyx:317\u001B[0m, in \u001B[0;36m_pydevd_bundle.pydevd_cython_win32_310_64.PyDBFrame.do_wait_suspend\u001B[1;34m()\u001B[0m\n",
      "File \u001B[1;32mC:\\Program Files\\JetBrains\\PyCharm 2022.3.2\\plugins\\python\\helpers\\pydev\\pydevd.py:1160\u001B[0m, in \u001B[0;36mPyDB.do_wait_suspend\u001B[1;34m(self, thread, frame, event, arg, send_suspend_message, is_unhandled_exception)\u001B[0m\n\u001B[0;32m   1157\u001B[0m         from_this_thread\u001B[38;5;241m.\u001B[39mappend(frame_id)\n\u001B[0;32m   1159\u001B[0m \u001B[38;5;28;01mwith\u001B[39;00m \u001B[38;5;28mself\u001B[39m\u001B[38;5;241m.\u001B[39m_threads_suspended_single_notification\u001B[38;5;241m.\u001B[39mnotify_thread_suspended(thread_id, stop_reason):\n\u001B[1;32m-> 1160\u001B[0m     \u001B[38;5;28;43mself\u001B[39;49m\u001B[38;5;241;43m.\u001B[39;49m\u001B[43m_do_wait_suspend\u001B[49m\u001B[43m(\u001B[49m\u001B[43mthread\u001B[49m\u001B[43m,\u001B[49m\u001B[43m \u001B[49m\u001B[43mframe\u001B[49m\u001B[43m,\u001B[49m\u001B[43m \u001B[49m\u001B[43mevent\u001B[49m\u001B[43m,\u001B[49m\u001B[43m \u001B[49m\u001B[43marg\u001B[49m\u001B[43m,\u001B[49m\u001B[43m \u001B[49m\u001B[43msuspend_type\u001B[49m\u001B[43m,\u001B[49m\u001B[43m \u001B[49m\u001B[43mfrom_this_thread\u001B[49m\u001B[43m)\u001B[49m\n",
      "File \u001B[1;32mC:\\Program Files\\JetBrains\\PyCharm 2022.3.2\\plugins\\python\\helpers\\pydev\\pydevd.py:1175\u001B[0m, in \u001B[0;36mPyDB._do_wait_suspend\u001B[1;34m(self, thread, frame, event, arg, suspend_type, from_this_thread)\u001B[0m\n\u001B[0;32m   1172\u001B[0m             \u001B[38;5;28mself\u001B[39m\u001B[38;5;241m.\u001B[39m_call_mpl_hook()\n\u001B[0;32m   1174\u001B[0m         \u001B[38;5;28mself\u001B[39m\u001B[38;5;241m.\u001B[39mprocess_internal_commands()\n\u001B[1;32m-> 1175\u001B[0m         \u001B[43mtime\u001B[49m\u001B[38;5;241;43m.\u001B[39;49m\u001B[43msleep\u001B[49m\u001B[43m(\u001B[49m\u001B[38;5;241;43m0.01\u001B[39;49m\u001B[43m)\u001B[49m\n\u001B[0;32m   1177\u001B[0m \u001B[38;5;28mself\u001B[39m\u001B[38;5;241m.\u001B[39mcancel_async_evaluation(get_current_thread_id(thread), \u001B[38;5;28mstr\u001B[39m(\u001B[38;5;28mid\u001B[39m(frame)))\n\u001B[0;32m   1179\u001B[0m \u001B[38;5;66;03m# process any stepping instructions\u001B[39;00m\n",
      "\u001B[1;31mKeyboardInterrupt\u001B[0m: "
     ]
    }
   ],
   "source": [
    "pca"
   ],
   "metadata": {
    "collapsed": false
   }
  },
  {
   "cell_type": "code",
   "execution_count": null,
   "outputs": [],
   "source": [
    "finalDf_3d"
   ],
   "metadata": {
    "collapsed": false
   }
  },
  {
   "cell_type": "code",
   "execution_count": null,
   "outputs": [],
   "source": [
    "\n",
    "# pio.renderers.default = \"browser\"\n",
    "#######################################\n",
    "############### plot 3D ###############\n",
    "#######################################\n"
   ],
   "metadata": {
    "collapsed": false
   }
  },
  {
   "cell_type": "code",
   "execution_count": null,
   "outputs": [],
   "source": [
    "# data.groupby(['Sex','Survived'])['Survived'].count()\n",
    "# data"
   ],
   "metadata": {
    "collapsed": false
   }
  },
  {
   "cell_type": "code",
   "execution_count": null,
   "outputs": [],
   "source": [
    "# df"
   ],
   "metadata": {
    "collapsed": false
   }
  },
  {
   "cell_type": "code",
   "execution_count": null,
   "outputs": [],
   "source": [
    "\n"
   ],
   "metadata": {
    "collapsed": false
   }
  },
  {
   "cell_type": "code",
   "execution_count": null,
   "outputs": [],
   "source": [],
   "metadata": {
    "collapsed": false
   }
  }
 ],
 "metadata": {
  "kernelspec": {
   "display_name": "Python 3",
   "language": "python",
   "name": "python3"
  },
  "language_info": {
   "codemirror_mode": {
    "name": "ipython",
    "version": 2
   },
   "file_extension": ".py",
   "mimetype": "text/x-python",
   "name": "python",
   "nbconvert_exporter": "python",
   "pygments_lexer": "ipython2",
   "version": "2.7.6"
  }
 },
 "nbformat": 4,
 "nbformat_minor": 0
}
